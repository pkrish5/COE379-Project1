{
 "cells": [
  {
   "cell_type": "code",
   "execution_count": 1,
   "id": "a5f95cbf-3382-4545-8782-1134f896e714",
   "metadata": {},
   "outputs": [
    {
     "name": "stderr",
     "output_type": "stream",
     "text": [
      "/tmp/ipykernel_2493/4080736814.py:1: DeprecationWarning: \n",
      "Pyarrow will become a required dependency of pandas in the next major release of pandas (pandas 3.0),\n",
      "(to allow more performant data types, such as the Arrow string type, and better interoperability with other libraries)\n",
      "but was not found to be installed on your system.\n",
      "If this would cause problems for you,\n",
      "please provide us feedback at https://github.com/pandas-dev/pandas/issues/54466\n",
      "        \n",
      "  import pandas as pd\n"
     ]
    }
   ],
   "source": [
    "import pandas as pd"
   ]
  },
  {
   "cell_type": "code",
   "execution_count": 2,
   "id": "eb514069-a45a-4dbe-9f06-bce606b1070a",
   "metadata": {},
   "outputs": [],
   "source": [
    "animals = pd.read_csv('project1.csv')"
   ]
  },
  {
   "cell_type": "code",
   "execution_count": 3,
   "id": "fd3a294f-c15d-456e-a119-4a3ba2f59e53",
   "metadata": {},
   "outputs": [
    {
     "data": {
      "text/html": [
       "<div>\n",
       "<style scoped>\n",
       "    .dataframe tbody tr th:only-of-type {\n",
       "        vertical-align: middle;\n",
       "    }\n",
       "\n",
       "    .dataframe tbody tr th {\n",
       "        vertical-align: top;\n",
       "    }\n",
       "\n",
       "    .dataframe thead th {\n",
       "        text-align: right;\n",
       "    }\n",
       "</style>\n",
       "<table border=\"1\" class=\"dataframe\">\n",
       "  <thead>\n",
       "    <tr style=\"text-align: right;\">\n",
       "      <th></th>\n",
       "      <th>Animal ID</th>\n",
       "      <th>Date of Birth</th>\n",
       "      <th>Name</th>\n",
       "      <th>DateTime</th>\n",
       "      <th>MonthYear</th>\n",
       "      <th>Outcome Type</th>\n",
       "      <th>Outcome Subtype</th>\n",
       "      <th>Animal Type</th>\n",
       "      <th>Sex upon Outcome</th>\n",
       "      <th>Age upon Outcome</th>\n",
       "      <th>Breed</th>\n",
       "      <th>Color</th>\n",
       "    </tr>\n",
       "  </thead>\n",
       "  <tbody>\n",
       "    <tr>\n",
       "      <th>0</th>\n",
       "      <td>A680855</td>\n",
       "      <td>5/25/14</td>\n",
       "      <td>NaN</td>\n",
       "      <td>2014-06-10T00:00:00-05:00</td>\n",
       "      <td>Jun-14</td>\n",
       "      <td>Transfer</td>\n",
       "      <td>Partner</td>\n",
       "      <td>Bird</td>\n",
       "      <td>Unknown</td>\n",
       "      <td>2 weeks</td>\n",
       "      <td>Duck</td>\n",
       "      <td>Yellow/Black</td>\n",
       "    </tr>\n",
       "    <tr>\n",
       "      <th>1</th>\n",
       "      <td>A680857</td>\n",
       "      <td>5/25/14</td>\n",
       "      <td>NaN</td>\n",
       "      <td>2014-06-10T00:00:00-05:00</td>\n",
       "      <td>Jun-14</td>\n",
       "      <td>Transfer</td>\n",
       "      <td>Partner</td>\n",
       "      <td>Bird</td>\n",
       "      <td>Unknown</td>\n",
       "      <td>2 weeks</td>\n",
       "      <td>Duck</td>\n",
       "      <td>Yellow/Black</td>\n",
       "    </tr>\n",
       "    <tr>\n",
       "      <th>2</th>\n",
       "      <td>A680858</td>\n",
       "      <td>5/25/14</td>\n",
       "      <td>NaN</td>\n",
       "      <td>2014-06-10T00:00:00-05:00</td>\n",
       "      <td>Jun-14</td>\n",
       "      <td>Transfer</td>\n",
       "      <td>Partner</td>\n",
       "      <td>Bird</td>\n",
       "      <td>Unknown</td>\n",
       "      <td>2 weeks</td>\n",
       "      <td>Duck</td>\n",
       "      <td>Yellow/Black</td>\n",
       "    </tr>\n",
       "    <tr>\n",
       "      <th>3</th>\n",
       "      <td>A680859</td>\n",
       "      <td>5/25/14</td>\n",
       "      <td>NaN</td>\n",
       "      <td>2014-06-10T00:00:00-05:00</td>\n",
       "      <td>Jun-14</td>\n",
       "      <td>Transfer</td>\n",
       "      <td>Partner</td>\n",
       "      <td>Bird</td>\n",
       "      <td>Unknown</td>\n",
       "      <td>2 weeks</td>\n",
       "      <td>Duck</td>\n",
       "      <td>Yellow/Black</td>\n",
       "    </tr>\n",
       "    <tr>\n",
       "      <th>4</th>\n",
       "      <td>A680860</td>\n",
       "      <td>5/25/14</td>\n",
       "      <td>NaN</td>\n",
       "      <td>2014-06-10T00:00:00-05:00</td>\n",
       "      <td>Jun-14</td>\n",
       "      <td>Transfer</td>\n",
       "      <td>Partner</td>\n",
       "      <td>Bird</td>\n",
       "      <td>Unknown</td>\n",
       "      <td>2 weeks</td>\n",
       "      <td>Duck</td>\n",
       "      <td>Yellow/Black</td>\n",
       "    </tr>\n",
       "  </tbody>\n",
       "</table>\n",
       "</div>"
      ],
      "text/plain": [
       "  Animal ID Date of Birth Name                   DateTime MonthYear  \\\n",
       "0   A680855       5/25/14  NaN  2014-06-10T00:00:00-05:00    Jun-14   \n",
       "1   A680857       5/25/14  NaN  2014-06-10T00:00:00-05:00    Jun-14   \n",
       "2   A680858       5/25/14  NaN  2014-06-10T00:00:00-05:00    Jun-14   \n",
       "3   A680859       5/25/14  NaN  2014-06-10T00:00:00-05:00    Jun-14   \n",
       "4   A680860       5/25/14  NaN  2014-06-10T00:00:00-05:00    Jun-14   \n",
       "\n",
       "  Outcome Type Outcome Subtype Animal Type Sex upon Outcome Age upon Outcome  \\\n",
       "0     Transfer         Partner        Bird          Unknown          2 weeks   \n",
       "1     Transfer         Partner        Bird          Unknown          2 weeks   \n",
       "2     Transfer         Partner        Bird          Unknown          2 weeks   \n",
       "3     Transfer         Partner        Bird          Unknown          2 weeks   \n",
       "4     Transfer         Partner        Bird          Unknown          2 weeks   \n",
       "\n",
       "  Breed         Color  \n",
       "0  Duck  Yellow/Black  \n",
       "1  Duck  Yellow/Black  \n",
       "2  Duck  Yellow/Black  \n",
       "3  Duck  Yellow/Black  \n",
       "4  Duck  Yellow/Black  "
      ]
     },
     "execution_count": 3,
     "metadata": {},
     "output_type": "execute_result"
    }
   ],
   "source": [
    "animals.head()"
   ]
  },
  {
   "cell_type": "code",
   "execution_count": 4,
   "id": "d60a7721-1693-4de5-86c0-979b53d19f94",
   "metadata": {},
   "outputs": [
    {
     "data": {
      "text/plain": [
       "(131165, 12)"
      ]
     },
     "execution_count": 4,
     "metadata": {},
     "output_type": "execute_result"
    }
   ],
   "source": [
    "#viewing the shape of the dataset\n",
    "animals.shape"
   ]
  },
  {
   "cell_type": "code",
   "execution_count": 5,
   "id": "153221f2-768b-472e-8aed-f2401fe4465e",
   "metadata": {},
   "outputs": [
    {
     "name": "stdout",
     "output_type": "stream",
     "text": [
      "<class 'pandas.core.frame.DataFrame'>\n",
      "RangeIndex: 131165 entries, 0 to 131164\n",
      "Data columns (total 12 columns):\n",
      " #   Column            Non-Null Count   Dtype \n",
      "---  ------            --------------   ----- \n",
      " 0   Animal ID         131165 non-null  object\n",
      " 1   Date of Birth     131165 non-null  object\n",
      " 2   Name              93658 non-null   object\n",
      " 3   DateTime          131165 non-null  object\n",
      " 4   MonthYear         131165 non-null  object\n",
      " 5   Outcome Type      131125 non-null  object\n",
      " 6   Outcome Subtype   65810 non-null   object\n",
      " 7   Animal Type       131165 non-null  object\n",
      " 8   Sex upon Outcome  131165 non-null  object\n",
      " 9   Age upon Outcome  131165 non-null  object\n",
      " 10  Breed             131165 non-null  object\n",
      " 11  Color             131165 non-null  object\n",
      "dtypes: object(12)\n",
      "memory usage: 12.0+ MB\n"
     ]
    }
   ],
   "source": [
    "#viewing size and types for each \n",
    "animals.info()\n"
   ]
  },
  {
   "cell_type": "code",
   "execution_count": 6,
   "id": "fdb0c8ae-ce63-4fef-8843-aaebc6460122",
   "metadata": {},
   "outputs": [],
   "source": [
    "#Part 1 Identify shape, size of the raw data :\n",
    "#Shape: (131165, 12) so 131,165 rows and 12 columns.\n",
    "# Size: 131165 × 12 = 1,573,980  cells and 12 mb size"
   ]
  },
  {
   "cell_type": "code",
   "execution_count": 7,
   "id": "16f4eecd-f0db-42da-8c33-0b33a1db5616",
   "metadata": {},
   "outputs": [
    {
     "data": {
      "text/plain": [
       "17"
      ]
     },
     "execution_count": 7,
     "metadata": {},
     "output_type": "execute_result"
    }
   ],
   "source": [
    "#I noticed that every columns type right now is an object so it must be converted \n",
    "#to the approprate types:\n",
    "# Date of Birth, DateTime and MonthYear should be datetime64\n",
    "#Age upon Outcome should be a numeric value\n",
    "#Outcome Type, Outcome Subtype, Animal Type, Sex upon Outcome, Breed, Color should all be category\n",
    "\n",
    "#counts all duplicate rows.\n",
    "duplicates = animals.duplicated().sum()\n",
    "duplicates\n"
   ]
  },
  {
   "cell_type": "code",
   "execution_count": 8,
   "id": "413e40c5-82cb-43ab-851e-c04a129e4d4f",
   "metadata": {},
   "outputs": [],
   "source": [
    "# droping duplicates\n",
    "animals = animals.drop_duplicates()"
   ]
  },
  {
   "cell_type": "code",
   "execution_count": 9,
   "id": "8ddacca2-6b65-44cd-b2ea-caaef66fea4d",
   "metadata": {},
   "outputs": [
    {
     "name": "stdout",
     "output_type": "stream",
     "text": [
      "<class 'pandas.core.frame.DataFrame'>\n",
      "Index: 131148 entries, 0 to 131164\n",
      "Data columns (total 12 columns):\n",
      " #   Column            Non-Null Count   Dtype \n",
      "---  ------            --------------   ----- \n",
      " 0   Animal ID         131148 non-null  object\n",
      " 1   Date of Birth     131148 non-null  object\n",
      " 2   Name              93645 non-null   object\n",
      " 3   DateTime          131148 non-null  object\n",
      " 4   MonthYear         131148 non-null  object\n",
      " 5   Outcome Type      131108 non-null  object\n",
      " 6   Outcome Subtype   65802 non-null   object\n",
      " 7   Animal Type       131148 non-null  object\n",
      " 8   Sex upon Outcome  131148 non-null  object\n",
      " 9   Age upon Outcome  131148 non-null  object\n",
      " 10  Breed             131148 non-null  object\n",
      " 11  Color             131148 non-null  object\n",
      "dtypes: object(12)\n",
      "memory usage: 13.0+ MB\n"
     ]
    }
   ],
   "source": [
    "animals.info()"
   ]
  },
  {
   "cell_type": "code",
   "execution_count": 10,
   "id": "a0c5e7d1-92bf-4470-a98d-1b8cee570def",
   "metadata": {},
   "outputs": [
    {
     "data": {
      "text/plain": [
       "Animal ID               0\n",
       "Date of Birth           0\n",
       "Name                37503\n",
       "DateTime                0\n",
       "MonthYear               0\n",
       "Outcome Type           40\n",
       "Outcome Subtype     65346\n",
       "Animal Type             0\n",
       "Sex upon Outcome        0\n",
       "Age upon Outcome        0\n",
       "Breed                   0\n",
       "Color                   0\n",
       "dtype: int64"
      ]
     },
     "execution_count": 10,
     "metadata": {},
     "output_type": "execute_result"
    }
   ],
   "source": [
    "# To treat invalid name data we want to replace the Nan with \"unknown\"\n",
    "animals.isnull().sum()\n"
   ]
  },
  {
   "cell_type": "code",
   "execution_count": 11,
   "id": "059815a1-2641-4442-b9b2-744e05c355ca",
   "metadata": {},
   "outputs": [],
   "source": [
    "animals['Name'] = animals['Name'].fillna('Unknown')\n"
   ]
  },
  {
   "cell_type": "code",
   "execution_count": 12,
   "id": "8d7aaa80-8285-4eb4-8fec-b2c0ef9cceec",
   "metadata": {},
   "outputs": [],
   "source": [
    "animals['Outcome Type'] = animals['Outcome Type'].fillna(animals['Outcome Type'].mode()[0])\n"
   ]
  },
  {
   "cell_type": "code",
   "execution_count": 13,
   "id": "e7cbebb6-21c3-4596-86f7-bb81a1851636",
   "metadata": {},
   "outputs": [],
   "source": [
    "animals['Outcome Subtype'] = animals['Outcome Subtype'].fillna('Unknown')\n"
   ]
  },
  {
   "cell_type": "code",
   "execution_count": 14,
   "id": "79a67190-31c0-4209-ab50-6fdf0fa51682",
   "metadata": {},
   "outputs": [
    {
     "data": {
      "text/plain": [
       "Animal ID           0\n",
       "Date of Birth       0\n",
       "Name                0\n",
       "DateTime            0\n",
       "MonthYear           0\n",
       "Outcome Type        0\n",
       "Outcome Subtype     0\n",
       "Animal Type         0\n",
       "Sex upon Outcome    0\n",
       "Age upon Outcome    0\n",
       "Breed               0\n",
       "Color               0\n",
       "dtype: int64"
      ]
     },
     "execution_count": 14,
     "metadata": {},
     "output_type": "execute_result"
    }
   ],
   "source": [
    "#Making sure NA values removed\n",
    "animals.isnull().sum()\n"
   ]
  },
  {
   "cell_type": "code",
   "execution_count": 15,
   "id": "bb54796f-ebad-402d-a180-c42a6285a0ca",
   "metadata": {},
   "outputs": [],
   "source": [
    "animals['DateTime'] = pd.to_datetime(animals['DateTime'], format='mixed', errors='coerce', utc=True).dt.tz_localize(None)\n",
    "\n",
    "animals['Date of Birth'] = pd.to_datetime(animals['Date of Birth'], format='mixed', errors='coerce', utc=True).dt.tz_localize(None)\n",
    "\n",
    "animals['MonthYear'] = pd.to_datetime(animals['MonthYear'].astype(str), format='%b-%y', errors='coerce')"
   ]
  },
  {
   "cell_type": "code",
   "execution_count": 16,
   "id": "b28ff4ca-941b-4ecd-8711-abafca3a386c",
   "metadata": {},
   "outputs": [
    {
     "data": {
      "text/html": [
       "<div>\n",
       "<style scoped>\n",
       "    .dataframe tbody tr th:only-of-type {\n",
       "        vertical-align: middle;\n",
       "    }\n",
       "\n",
       "    .dataframe tbody tr th {\n",
       "        vertical-align: top;\n",
       "    }\n",
       "\n",
       "    .dataframe thead th {\n",
       "        text-align: right;\n",
       "    }\n",
       "</style>\n",
       "<table border=\"1\" class=\"dataframe\">\n",
       "  <thead>\n",
       "    <tr style=\"text-align: right;\">\n",
       "      <th></th>\n",
       "      <th>Date of Birth</th>\n",
       "      <th>DateTime</th>\n",
       "      <th>MonthYear</th>\n",
       "    </tr>\n",
       "  </thead>\n",
       "  <tbody>\n",
       "    <tr>\n",
       "      <th>count</th>\n",
       "      <td>131148</td>\n",
       "      <td>131148</td>\n",
       "      <td>131148</td>\n",
       "    </tr>\n",
       "    <tr>\n",
       "      <th>mean</th>\n",
       "      <td>2017-06-08 01:55:47.680482816</td>\n",
       "      <td>2019-02-09 07:53:58.784388608</td>\n",
       "      <td>2019-01-24 20:09:52.917925120</td>\n",
       "    </tr>\n",
       "    <tr>\n",
       "      <th>min</th>\n",
       "      <td>1991-09-22 00:00:00</td>\n",
       "      <td>2013-10-01 09:31:00</td>\n",
       "      <td>2013-10-01 00:00:00</td>\n",
       "    </tr>\n",
       "    <tr>\n",
       "      <th>25%</th>\n",
       "      <td>2014-08-23 00:00:00</td>\n",
       "      <td>2016-04-25 11:28:15</td>\n",
       "      <td>2016-04-01 00:00:00</td>\n",
       "    </tr>\n",
       "    <tr>\n",
       "      <th>50%</th>\n",
       "      <td>2017-05-25 00:00:00</td>\n",
       "      <td>2018-11-04 15:31:00</td>\n",
       "      <td>2018-11-01 00:00:00</td>\n",
       "    </tr>\n",
       "    <tr>\n",
       "      <th>75%</th>\n",
       "      <td>2020-08-09 00:00:00</td>\n",
       "      <td>2021-11-24 17:14:15</td>\n",
       "      <td>2021-11-01 00:00:00</td>\n",
       "    </tr>\n",
       "    <tr>\n",
       "      <th>max</th>\n",
       "      <td>2025-04-28 00:00:00</td>\n",
       "      <td>2025-05-05 07:22:00</td>\n",
       "      <td>2025-05-01 00:00:00</td>\n",
       "    </tr>\n",
       "  </tbody>\n",
       "</table>\n",
       "</div>"
      ],
      "text/plain": [
       "                       Date of Birth                       DateTime  \\\n",
       "count                         131148                         131148   \n",
       "mean   2017-06-08 01:55:47.680482816  2019-02-09 07:53:58.784388608   \n",
       "min              1991-09-22 00:00:00            2013-10-01 09:31:00   \n",
       "25%              2014-08-23 00:00:00            2016-04-25 11:28:15   \n",
       "50%              2017-05-25 00:00:00            2018-11-04 15:31:00   \n",
       "75%              2020-08-09 00:00:00            2021-11-24 17:14:15   \n",
       "max              2025-04-28 00:00:00            2025-05-05 07:22:00   \n",
       "\n",
       "                           MonthYear  \n",
       "count                         131148  \n",
       "mean   2019-01-24 20:09:52.917925120  \n",
       "min              2013-10-01 00:00:00  \n",
       "25%              2016-04-01 00:00:00  \n",
       "50%              2018-11-01 00:00:00  \n",
       "75%              2021-11-01 00:00:00  \n",
       "max              2025-05-01 00:00:00  "
      ]
     },
     "execution_count": 16,
     "metadata": {},
     "output_type": "execute_result"
    }
   ],
   "source": [
    "animals.describe()\n"
   ]
  },
  {
   "cell_type": "code",
   "execution_count": 17,
   "id": "05f3c2a6-b8cd-4a88-bee8-515d638c5c71",
   "metadata": {},
   "outputs": [],
   "source": [
    "import matplotlib.pyplot as plt\n",
    "import seaborn as sns\n"
   ]
  },
  {
   "cell_type": "code",
   "execution_count": 18,
   "id": "e56ab5e7-f519-4374-b1d3-eb59ac9a12d4",
   "metadata": {},
   "outputs": [
    {
     "data": {
      "image/png": "[encoded data removed]",
      "text/plain": [
       "<Figure size 640x480 with 1 Axes>"
      ]
     },
     "metadata": {},
     "output_type": "display_data"
    }
   ],
   "source": [
    "animals['Animal Type'].value_counts().plot(kind='bar')\n",
    "plt.title(\"Distribution of Animal Type\")\n",
    "plt.xlabel(\"Animal Type\")\n",
    "plt.ylabel(\"Count\")\n",
    "plt.show()"
   ]
  },
  {
   "cell_type": "code",
   "execution_count": 19,
   "id": "c7e4e3b0-9358-4c6b-a092-5ff62ebf3047",
   "metadata": {},
   "outputs": [],
   "source": [
    "# Dogs and cats dominate the dataset with having over 60,000 records each.\n",
    "# The other animals (birds and livestock) are very rare in comparison."
   ]
  },
  {
   "cell_type": "code",
   "execution_count": 20,
   "id": "7aa55bf5-4b2f-4426-b0e7-677198361434",
   "metadata": {},
   "outputs": [
    {
     "data": {
      "image/png": "[encoded data removed]",
      "text/plain": [
       "<Figure size 640x480 with 1 Axes>"
      ]
     },
     "metadata": {},
     "output_type": "display_data"
    }
   ],
   "source": [
    "animals['Outcome Type'].value_counts().plot(kind='bar')\n",
    "plt.title(\"Distribution of Outcome Type\")\n",
    "plt.xlabel(\"Outcome Type\")\n",
    "plt.ylabel(\"Count\")\n",
    "plt.xticks(rotation=30)\n",
    "plt.show()"
   ]
  },
  {
   "cell_type": "code",
   "execution_count": 21,
   "id": "d53da1c2-13ce-464d-aeff-617f7bbef4fd",
   "metadata": {},
   "outputs": [],
   "source": [
    "# The majority of outcomes are Adoption, followed by Transfer.\n",
    "# Again other outcomes (Euthanasia, Return to Owner) are much less frequent."
   ]
  },
  {
   "cell_type": "code",
   "execution_count": 22,
   "id": "a66cb286-f447-4092-9139-bfe1a1f15f10",
   "metadata": {},
   "outputs": [
    {
     "data": {
      "image/png": "[encoded data removed]",
      "text/plain": [
       "<Figure size 640x480 with 1 Axes>"
      ]
     },
     "metadata": {},
     "output_type": "display_data"
    }
   ],
   "source": [
    "animals['Sex upon Outcome'].value_counts().plot(kind='bar')\n",
    "plt.title(\"Distribution of Sex upon Outcome\")\n",
    "plt.xlabel(\"Sex upon Outcome\")\n",
    "plt.ylabel(\"Count\")\n",
    "plt.xticks(rotation=30)\n",
    "plt.show()"
   ]
  },
  {
   "cell_type": "code",
   "execution_count": 23,
   "id": "c0e18281-4883-472e-855f-0c3d11c2b7a6",
   "metadata": {},
   "outputs": [],
   "source": [
    "# The largest categories are Neutered Male and Spayed Female with ~45,000–50,000 animals each.\n",
    "# Intact animals (male/female) are much less common.\n",
    "# There are a small number of records are marked as Unknown aswell."
   ]
  },
  {
   "cell_type": "code",
   "execution_count": 24,
   "id": "43e49576-0400-4150-904d-b284a0ad9942",
   "metadata": {},
   "outputs": [
    {
     "name": "stdout",
     "output_type": "stream",
     "text": [
      "Age upon Outcome\n",
      "2 months    22470\n",
      "1 year      19870\n",
      "2 years     18265\n",
      "3 months     8673\n",
      "1 month      6521\n",
      "3 years      6165\n",
      "4 months     5524\n",
      "5 months     3739\n",
      "4 years      3523\n",
      "6 months     3341\n",
      "Name: count, dtype: int64\n"
     ]
    }
   ],
   "source": [
    "print(animals['Age upon Outcome'].value_counts().head(10))\n",
    "# The most common age groups are 2 months, 1 year, and 2 years.\n",
    "# Younger animals (< 1 year) are most prevelant in the dataset, especially “2 months”.\n",
    "# Because these values are strings we need to convert them into a consistent numeric format (like days) for proper analysis."
   ]
  },
  {
   "cell_type": "code",
   "execution_count": 25,
   "id": "b4794237-3bd0-46ac-bb93-5015335bb3ce",
   "metadata": {},
   "outputs": [],
   "source": [
    "#dropping redundant columns ID and name dont add value and monthyear and date time have redundant info\n",
    "animals.drop(['Animal ID', 'Name', 'MonthYear'], axis=1, inplace=True)  \n"
   ]
  },
  {
   "cell_type": "code",
   "execution_count": 26,
   "id": "2b288ea1-11c6-4ae7-a181-7162b2b667fb",
   "metadata": {},
   "outputs": [
    {
     "name": "stdout",
     "output_type": "stream",
     "text": [
      "<class 'pandas.core.frame.DataFrame'>\n",
      "Index: 131148 entries, 0 to 131164\n",
      "Data columns (total 2 columns):\n",
      " #   Column         Non-Null Count   Dtype         \n",
      "---  ------         --------------   -----         \n",
      " 0   DateTime       131148 non-null  datetime64[ns]\n",
      " 1   Date of Birth  131148 non-null  datetime64[ns]\n",
      "dtypes: datetime64[ns](2)\n",
      "memory usage: 3.0 MB\n"
     ]
    }
   ],
   "source": [
    "#Making sure the values were converted correctly and non-null\n",
    "animals[['DateTime','Date of Birth']].info()\n"
   ]
  },
  {
   "cell_type": "code",
   "execution_count": 27,
   "id": "b2af459c-7d01-4b17-bd3a-d2df6cc39a62",
   "metadata": {},
   "outputs": [],
   "source": [
    "animals['AgeNum'] = animals['Age upon Outcome'].str.extract(r'(\\d+)').astype(float)\n",
    "animals['AgeUnit'] = animals['Age upon Outcome'].str.extract(r'([a-zA-Z]+)')"
   ]
  },
  {
   "cell_type": "code",
   "execution_count": 28,
   "id": "0ad87d31-6eee-439d-89ff-4f3179a9103d",
   "metadata": {},
   "outputs": [],
   "source": [
    "#scale to days\n",
    "animals.loc[animals['AgeUnit'].str.contains('day', case=False, na=False), 'AgeNum'] *= 1\n",
    "animals.loc[animals['AgeUnit'].str.contains('week', case=False, na=False), 'AgeNum'] *= 7\n",
    "animals.loc[animals['AgeUnit'].str.contains('month', case=False, na=False), 'AgeNum'] *= 30\n",
    "animals.loc[animals['AgeUnit'].str.contains('year', case=False, na=False), 'AgeNum'] *= 365\n",
    "#drop ageUnit column and rename agenum column \n",
    "animals.drop(['Age upon Outcome','AgeUnit'], axis=1, inplace=True)\n",
    "animals.rename(columns={'AgeNum':'Age upon Outcome (days)'}, inplace=True)"
   ]
  },
  {
   "cell_type": "code",
   "execution_count": 29,
   "id": "9d63ee9f-79a1-4894-bb2c-0647c810b0f6",
   "metadata": {},
   "outputs": [
    {
     "data": {
      "text/plain": [
       "0    14.0\n",
       "1    14.0\n",
       "2    14.0\n",
       "3    14.0\n",
       "4    14.0\n",
       "Name: Age upon Outcome (days), dtype: float64"
      ]
     },
     "execution_count": 29,
     "metadata": {},
     "output_type": "execute_result"
    }
   ],
   "source": [
    "animals['Age upon Outcome (days)'].head()\n"
   ]
  },
  {
   "cell_type": "code",
   "execution_count": 30,
   "id": "dfa326ae-56d5-4662-8997-dd77072f7427",
   "metadata": {},
   "outputs": [],
   "source": [
    "categorical_cols = ['Outcome Type','Outcome Subtype','Animal Type',\n",
    "                    'Sex upon Outcome','Breed','Color']\n",
    "for col in categorical_cols:\n",
    "    animals[col] = animals[col].astype('category')"
   ]
  },
  {
   "cell_type": "code",
   "execution_count": 31,
   "id": "29f8b709-06b2-4e04-920a-6f1a292eff4a",
   "metadata": {},
   "outputs": [
    {
     "name": "stdout",
     "output_type": "stream",
     "text": [
      "<class 'pandas.core.frame.DataFrame'>\n",
      "Index: 131148 entries, 0 to 131164\n",
      "Data columns (total 9 columns):\n",
      " #   Column                   Non-Null Count   Dtype         \n",
      "---  ------                   --------------   -----         \n",
      " 0   Date of Birth            131148 non-null  datetime64[ns]\n",
      " 1   DateTime                 131148 non-null  datetime64[ns]\n",
      " 2   Outcome Type             131148 non-null  category      \n",
      " 3   Outcome Subtype          131148 non-null  category      \n",
      " 4   Animal Type              131148 non-null  category      \n",
      " 5   Sex upon Outcome         131148 non-null  category      \n",
      " 6   Breed                    131148 non-null  category      \n",
      " 7   Color                    131148 non-null  category      \n",
      " 8   Age upon Outcome (days)  131148 non-null  float64       \n",
      "dtypes: category(6), datetime64[ns](2), float64(1)\n",
      "memory usage: 5.1 MB\n"
     ]
    }
   ],
   "source": [
    "#checking types\n",
    "animals.info()\n"
   ]
  },
  {
   "cell_type": "code",
   "execution_count": 32,
   "id": "a416c178-bd11-4dc8-8037-2f5f711c7f81",
   "metadata": {},
   "outputs": [
    {
     "name": "stdout",
     "output_type": "stream",
     "text": [
      "0    Transfer\n",
      "1    Transfer\n",
      "2    Transfer\n",
      "3    Transfer\n",
      "4    Transfer\n",
      "Name: Outcome Type, dtype: category\n",
      "Categories (2, object): ['Adoption', 'Transfer']\n"
     ]
    }
   ],
   "source": [
    "print(animals['Outcome Type'].head())\n"
   ]
  },
  {
   "cell_type": "code",
   "execution_count": 33,
   "id": "a3789718-0e07-4e7b-8842-ddd60bb4fed9",
   "metadata": {},
   "outputs": [
    {
     "data": {
      "text/plain": [
       "['Transfer', 'Adoption']\n",
       "Categories (2, object): ['Adoption', 'Transfer']"
      ]
     },
     "execution_count": 33,
     "metadata": {},
     "output_type": "execute_result"
    }
   ],
   "source": [
    "animals['Outcome Type'].unique()\n"
   ]
  },
  {
   "cell_type": "code",
   "execution_count": 34,
   "id": "d6748c58-7f57-4c6c-b48c-d5cb1595908d",
   "metadata": {},
   "outputs": [
    {
     "name": "stdout",
     "output_type": "stream",
     "text": [
      "  Outcome Type  OutcomeType_Adoption\n",
      "0     Transfer                     0\n",
      "1     Transfer                     0\n",
      "2     Transfer                     0\n",
      "3     Transfer                     0\n",
      "4     Transfer                     0\n"
     ]
    }
   ],
   "source": [
    "animals['OutcomeType_Adoption'] = (animals['Outcome Type'] == 'Adoption').astype(int)\n",
    "\n",
    "print(animals[['Outcome Type','OutcomeType_Adoption']].head())"
   ]
  },
  {
   "cell_type": "code",
   "execution_count": 35,
   "id": "1b1521f8-ff82-47c2-ad88-d1ae4327b975",
   "metadata": {},
   "outputs": [],
   "source": [
    "\n",
    "cat_cols = ['Outcome Subtype',\n",
    "    'Animal Type',\n",
    "    'Sex upon Outcome',\n",
    "    'Breed',\n",
    "    'Color']  \n",
    "dummies = pd.get_dummies(animals[cat_cols], prefix=cat_cols, dtype='int8')\n",
    "animals = pd.concat([animals.drop(columns=cat_cols), dummies], axis=1)\n"
   ]
  },
  {
   "cell_type": "code",
   "execution_count": 36,
   "id": "83336602-23f1-4930-b319-c05e3aaec179",
   "metadata": {},
   "outputs": [
    {
     "name": "stdout",
     "output_type": "stream",
     "text": [
      "<class 'pandas.core.frame.DataFrame'>\n",
      "Index: 131148 entries, 0 to 131164\n",
      "Columns: 3150 entries, Date of Birth to Color_Yellow/Yellow\n",
      "dtypes: category(1), datetime64[ns](2), float64(1), int64(1), int8(3145)\n",
      "memory usage: 398.5 MB\n"
     ]
    }
   ],
   "source": [
    "animals.info()"
   ]
  },
  {
   "cell_type": "code",
   "execution_count": 37,
   "id": "bfee05ba-16e5-461a-92bb-542d8937a68e",
   "metadata": {},
   "outputs": [],
   "source": [
    "#Part 2\n",
    "#Dropping breed\n",
    "animals = animals.drop(columns=['Breed'], errors='ignore')\n"
   ]
  },
  {
   "cell_type": "code",
   "execution_count": 38,
   "id": "324dce65-eb37-4e2f-81c6-b569ec0b35eb",
   "metadata": {
    "scrolled": true
   },
   "outputs": [],
   "source": [
    "from sklearn.model_selection import train_test_split\n",
    "import numpy as np\n",
    "# Some of the code below was generated by ai see [3].\n",
    "y = animals['Outcome Type']  \n",
    "\n",
    "# Small numeric/categorical subset for KNN\n",
    "base_cols = ['Age upon Outcome (days)']  # numeric\n",
    "keep_prefixes = ['Animal Type_', 'Sex upon Outcome_']  # low-cardinality one-hots only\n",
    "\n",
    "keep_dummies = [c for c in animals.columns if any(c.startswith(p) for p in keep_prefixes)]\n",
    "\n",
    "# Exclude columns that give away the target or are non-numeric/huge\n",
    "leak_or_unused = ['Outcome Type', 'OutcomeType_Adoption', 'Animal ID', 'Name',\n",
    "                  'DateTime', 'Date of Birth', 'MonthYear', 'Breed'] \n",
    "\n",
    "X = animals[base_cols + keep_dummies].copy()\n",
    "X = X.loc[:, ~X.columns.isin(leak_or_unused)]\n",
    "\n",
    "X = X.astype(np.float32)\n",
    "                             \n",
    "# stratified split\n",
    "X_train, X_test, y_train, y_test = train_test_split(\n",
    "    X, y, test_size=0.30, stratify=y, random_state=1\n",
    ")"
   ]
  },
  {
   "cell_type": "code",
   "execution_count": 39,
   "id": "b530b32c-9498-4bef-8a13-ccccfdd058de",
   "metadata": {},
   "outputs": [
    {
     "name": "stdout",
     "output_type": "stream",
     "text": [
      "KNN (k=3) classification report:\n",
      "              precision    recall  f1-score   support\n",
      "\n",
      "    Adoption     0.8505    0.8646    0.8575     25086\n",
      "    Transfer     0.7546    0.7326    0.7434     14259\n",
      "\n",
      "    accuracy                         0.8167     39345\n",
      "   macro avg     0.8025    0.7986    0.8005     39345\n",
      "weighted avg     0.8157    0.8167    0.8161     39345\n",
      "\n",
      "Accuracy (test): 0.8167492692845343\n",
      "Accuracy (train): 0.8150714028953302\n"
     ]
    }
   ],
   "source": [
    "from sklearn.neighbors import KNeighborsClassifier\n",
    "from sklearn.metrics import accuracy_score, precision_score, recall_score, f1_score, classification_report\n",
    "# Some of the code below was generated by AI; see [4].\n",
    "\n",
    "#KNN baseline\n",
    "knn = KNeighborsClassifier(n_neighbors=3)  \n",
    "knn.fit(X_train, y_train)\n",
    "\n",
    "y_pred_knn = knn.predict(X_test)\n",
    "\n",
    "print(\"KNN (k=3) classification report:\")\n",
    "print(classification_report(y_test, y_pred_knn, digits=4))\n",
    "print(\"Accuracy (test):\", accuracy_score(y_test, y_pred_knn))\n",
    "print(\"Accuracy (train):\", accuracy_score(y_train, knn.predict(X_train)))\n"
   ]
  },
  {
   "cell_type": "code",
   "execution_count": 40,
   "id": "a4a64170-9f80-416a-935d-117f057eb283",
   "metadata": {},
   "outputs": [
    {
     "name": "stdout",
     "output_type": "stream",
     "text": [
      "Best k: {'n_neighbors': 28}\n",
      "\n",
      "KNN (GridSearchCV) classification report:\n",
      "              precision    recall  f1-score   support\n",
      "\n",
      "    Adoption     0.8455    0.9447    0.8923     25086\n",
      "    Transfer     0.8774    0.6962    0.7764     14259\n",
      "\n",
      "    accuracy                         0.8546     39345\n",
      "   macro avg     0.8614    0.8205    0.8343     39345\n",
      "weighted avg     0.8570    0.8546    0.8503     39345\n",
      "\n",
      "Accuracy (test): 0.8546448087431694\n",
      "Accuracy (train): 0.853163839961657\n"
     ]
    }
   ],
   "source": [
    "from sklearn.model_selection import GridSearchCV\n",
    "from sklearn.neighbors import KNeighborsClassifier\n",
    "from sklearn.metrics import classification_report, accuracy_score\n",
    "import numpy as np\n",
    "# Some of the code below was generated by AI; see [1] & [2].\n",
    "\n",
    "# per course notes\n",
    "param_grid = {\"n_neighbors\": np.arange(1, 30)} #reduced to 29 to make it run in a reasonable time\n",
    "knn_gs = GridSearchCV(KNeighborsClassifier(), param_grid, cv=3, scoring=\"accuracy\")\n",
    "knn_gs.fit(X_train, y_train)\n",
    "\n",
    "print(\"Best k:\", knn_gs.best_params_)\n",
    "best_knn = knn_gs.best_estimator_\n",
    "\n",
    "y_pred_best = best_knn.predict(X_test)\n",
    "print(\"\\nKNN (GridSearchCV) classification report:\")\n",
    "print(classification_report(y_test, y_pred_best, digits=4))\n",
    "\n",
    "print(\"Accuracy (test):\", accuracy_score(y_test, y_pred_best))\n",
    "print(\"Accuracy (train):\", accuracy_score(y_train, best_knn.predict(X_train)))"
   ]
  },
  {
   "cell_type": "code",
   "execution_count": 41,
   "id": "b70ec606-ab7a-4e64-82dd-d4355cf63cf5",
   "metadata": {},
   "outputs": [
    {
     "name": "stdout",
     "output_type": "stream",
     "text": [
      "\n",
      "Logistic Regression classification report:\n",
      "              precision    recall  f1-score   support\n",
      "\n",
      "    Adoption     0.8445    0.9572    0.8973     25086\n",
      "    Transfer     0.9016    0.6900    0.7817     14259\n",
      "\n",
      "    accuracy                         0.8603     39345\n",
      "   macro avg     0.8730    0.8236    0.8395     39345\n",
      "weighted avg     0.8652    0.8603    0.8554     39345\n",
      "\n"
     ]
    }
   ],
   "source": [
    "from sklearn.linear_model import LogisticRegression\n",
    "\n",
    "\n",
    "log_reg = LogisticRegression(max_iter=1000)\n",
    "log_reg.fit(X_train, y_train)\n",
    "y_pred_log = log_reg.predict(X_test)\n",
    "\n",
    "print(\"\\nLogistic Regression classification report:\")\n",
    "print(classification_report(y_test, y_pred_log, digits=4))\n",
    "\n"
   ]
  },
  {
   "cell_type": "code",
   "execution_count": 42,
   "id": "6c5ab439-be84-4644-9c91-8147bcaabf5b",
   "metadata": {},
   "outputs": [
    {
     "name": "stdout",
     "output_type": "stream",
     "text": [
      "                 Model  Accuracy  Precision (macro)  Recall (macro)  \\\n",
      "0              KNN k=3    0.8167             0.8025          0.7986   \n",
      "1        KNN best k=28    0.8546             0.8614          0.8205   \n",
      "2  Logistic Regression    0.8603             0.8730          0.8236   \n",
      "\n",
      "   F1 (macro)  \n",
      "0      0.8005  \n",
      "1      0.8343  \n",
      "2      0.8395  \n"
     ]
    }
   ],
   "source": [
    "\n",
    "from sklearn.metrics import accuracy_score, precision_score, recall_score, f1_score\n",
    "\n",
    "# Some of the code below was generated by AI; see [5].\n",
    "\n",
    "def row(name, yhat):\n",
    "    return {\n",
    "        \"Model\": name,\n",
    "        \"Accuracy\": accuracy_score(y_test, yhat),\n",
    "        \"Precision (macro)\": precision_score(y_test, yhat, average='macro', zero_division=0),\n",
    "        \"Recall (macro)\": recall_score(y_test, yhat, average='macro', zero_division=0),\n",
    "        \"F1 (macro)\": f1_score(y_test, yhat, average='macro', zero_division=0),\n",
    "    }\n",
    "\n",
    "results_df = pd.DataFrame([\n",
    "    row(\"KNN k=3\", y_pred_knn),\n",
    "    row(f\"KNN best k={knn_gs.best_params_['n_neighbors']}\", y_pred_best),\n",
    "    row(\"Logistic Regression\", y_pred_log)\n",
    "])\n",
    "print(results_df.round(4))"
   ]
  }
 ],
 "metadata": {
  "kernelspec": {
   "display_name": "Python 3 (ipykernel)",
   "language": "python",
   "name": "python3"
  },
  "language_info": {
   "codemirror_mode": {
    "name": "ipython",
    "version": 3
   },
   "file_extension": ".py",
   "mimetype": "text/x-python",
   "name": "python",
   "nbconvert_exporter": "python",
   "pygments_lexer": "ipython3",
   "version": "3.11.1"
  }
 },
 "nbformat": 4,
 "nbformat_minor": 5
}
